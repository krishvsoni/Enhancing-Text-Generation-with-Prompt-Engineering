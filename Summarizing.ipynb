{
 "cells": [
  {
   "cell_type": "code",
   "execution_count": 1,
   "id": "3fc5feac",
   "metadata": {},
   "outputs": [],
   "source": [
    "import openai\n",
    "openai.api_key = \"\""
   ]
  },
  {
   "cell_type": "code",
   "execution_count": 2,
   "id": "cac306fd",
   "metadata": {},
   "outputs": [],
   "source": [
    "def get_completion(prompt, model=\"gpt-3.5-turbo\"):\n",
    "    messages = [{\"role\": \"user\", \"content\": prompt}]\n",
    "    response = openai.ChatCompletion.create(\n",
    "        model=model,\n",
    "        messages=messages,\n",
    "        temperature=0  \n",
    "    )\n",
    "    return response.choices[0].message[\"content\"]"
   ]
  },
  {
   "cell_type": "code",
   "execution_count": 3,
   "id": "bb87407a",
   "metadata": {},
   "outputs": [],
   "source": [
    "prod_review = \"\"\"\n",
    "The XYZ smartphone is a game-changer in the world of mobile technology.\n",
    "With its sleek design and stunning display, this phone truly captivates the senses. \n",
    "The performance is exceptional, thanks to its powerful processor and ample RAM, ensuring smooth multitasking and lag-free gaming.\n",
    "The camera quality is impressive, delivering vibrant and detailed photos in any lighting condition. The battery life is remarkable, easily lasting throughout the day with moderate usage. Additionally, the intuitive user interface and advanced features make navigation a breeze. However, the phone's high price tag may be a deterrent for some budget-conscious consumers. Overall, the XYZ smartphone offers a premium experience with its top-notch features and performance, making it a worthy contender in the smartphone market.\n",
    "\n",
    "\"\"\""
   ]
  },
  {
   "cell_type": "code",
   "execution_count": 7,
   "id": "07c92a99",
   "metadata": {},
   "outputs": [
    {
     "name": "stdout",
     "output_type": "stream",
     "text": [
      "The XYZ smartphone is a top-notch device with a sleek design, stunning display, exceptional performance, impressive camera quality, remarkable battery life, and intuitive user interface. However, its high price may deter budget-conscious consumers.\n"
     ]
    }
   ],
   "source": [
    "prompt = f\"\"\"Summarize the review below in 30 words.\n",
    "Also generate short summary of a product review from an ecommerce website.\n",
    "\n",
    "Review: ```{prod_review}```\n",
    "\"\"\"\n",
    "response = get_completion(prompt)\n",
    "print(response)"
   ]
  },
  {
   "cell_type": "code",
   "execution_count": 9,
   "id": "f72d99bd",
   "metadata": {},
   "outputs": [
    {
     "name": "stdout",
     "output_type": "stream",
     "text": [
      "The XYZ smartphone is praised for its sleek design, stunning display, exceptional performance, impressive camera quality, remarkable battery life, and intuitive user interface. However, the high price tag may deter budget-conscious consumers. Overall, it offers a premium experience in the smartphone market. \n",
      "\n",
      "Product Review Summary: The XYZ smartphone offers a premium experience with its top-notch features and performance. However, the high price tag may be a deterrent for budget-conscious consumers. The shipping and delivery of the product were satisfactory.\n"
     ]
    }
   ],
   "source": [
    "prompt = f\"\"\" Summarize the review below in 30 words.\n",
    "Also generate short summary of a product review from an ecommerce website to \n",
    "give feedback to the shipping department, responsible for determining the price\n",
    "of product.\n",
    "Mention shipping and delivery of the product.\n",
    "Review: ```{prod_review}```\n",
    "\"\"\"\n",
    "response = get_completion(prompt)\n",
    "print(response)\n"
   ]
  },
  {
   "cell_type": "code",
   "execution_count": 12,
   "id": "09440c1c",
   "metadata": {},
   "outputs": [
    {
     "name": "stdout",
     "output_type": "stream",
     "text": [
      "Review 1:\n",
      "- The XYZ smartphone has a sleek design and stunning display.\n",
      "- The performance is exceptional with a powerful processor and ample RAM.\n",
      "- The camera quality is impressive, delivering vibrant and detailed photos in any lighting condition.\n",
      "- The battery life is remarkable, easily lasting throughout the day with moderate usage.\n",
      "- The user interface is intuitive and navigation is a breeze.\n",
      "- The high price tag may be a deterrent for budget-conscious consumers.\n",
      "\n",
      "Review 2:\n",
      "- The XYZ smartphone is a game-changer in the world of mobile technology.\n",
      "- The phone captivates the senses with its sleek design and stunning display.\n",
      "- The performance is exceptional, thanks to its powerful processor and ample RAM.\n",
      "- The camera quality is impressive, delivering vibrant and detailed photos in any lighting condition.\n",
      "- The battery life is remarkable, easily lasting throughout the day with moderate usage.\n",
      "- The intuitive user interface and advanced features make navigation a breeze.\n",
      "- The high price tag may be a deterrent for some budget-conscious consumers.\n",
      "- Overall, the XYZ smartphone offers a premium experience with its top-notch features and performance, making it a worthy contender in the smartphone market.\n"
     ]
    }
   ],
   "source": [
    "prompt = f\"\"\"\n",
    "Your task is to extract relevent information from\n",
    "a product review from an ecommerce site to give feedback\n",
    "to shipping department. \n",
    "\n",
    "Give multiple reviews and give numerical order.\n",
    "\n",
    "Review: ```{prod_review}```\n",
    "\"\"\"\n",
    "response = get_completion(prompt)\n",
    "print(response)"
   ]
  }
 ],
 "metadata": {
  "kernelspec": {
   "display_name": "Python 3 (ipykernel)",
   "language": "python",
   "name": "python3"
  },
  "language_info": {
   "codemirror_mode": {
    "name": "ipython",
    "version": 3
   },
   "file_extension": ".py",
   "mimetype": "text/x-python",
   "name": "python",
   "nbconvert_exporter": "python",
   "pygments_lexer": "ipython3",
   "version": "3.11.3"
  }
 },
 "nbformat": 4,
 "nbformat_minor": 5
}
