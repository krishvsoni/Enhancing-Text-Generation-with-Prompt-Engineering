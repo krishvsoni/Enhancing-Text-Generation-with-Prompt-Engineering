{
 "cells": [
  {
   "cell_type": "code",
   "execution_count": 1,
   "id": "032673e2",
   "metadata": {},
   "outputs": [],
   "source": [
    "import openai\n",
    "openai.api_key = \"\""
   ]
  },
  {
   "cell_type": "code",
   "execution_count": 2,
   "id": "d5958758",
   "metadata": {},
   "outputs": [],
   "source": [
    "def get_completion(prompt, model=\"gpt-3.5-turbo\"):\n",
    "    messages = [{\"role\": \"user\", \"content\": prompt}]\n",
    "    response = openai.ChatCompletion.create(\n",
    "        model=model,\n",
    "        messages=messages,\n",
    "        temperature=0  \n",
    "    )\n",
    "    return response.choices[0].message[\"content\"]"
   ]
  },
  {
   "cell_type": "code",
   "execution_count": 3,
   "id": "6a7fdb6f",
   "metadata": {},
   "outputs": [],
   "source": [
    "sentiment = \"negative\"\n",
    "\n",
    "# review for a blender\n",
    "review = f\"\"\"\n",
    "So, they still had the 17 piece system on seasonal \\\n",
    "sale for around $49 in the month of November, about \\\n",
    "half off, but for some reason (call it price gouging) \\\n",
    "around the second week of December the prices all went \\\n",
    "up to about anywhere from between $70-$89 for the same \\\n",
    "system. And the 11 piece system went up around $10 or \\\n",
    "so in price also from the earlier sale price of $29. \\\n",
    "So it looks okay, but if you look at the base, the part \\\n",
    "where the blade locks into place doesn’t look as good \\\n",
    "as in previous editions from a few years ago, but I \\\n",
    "plan to be very gentle with it (example, I crush \\\n",
    "very hard items like beans, ice, rice, etc. in the \\ \n",
    "blender first then pulverize them in the serving size \\\n",
    "I want in the blender then switch to the whipping \\\n",
    "blade for a finer flour, and use the cross cutting blade \\\n",
    "first when making smoothies, then use the flat blade \\\n",
    "if I need them finer/less pulpy). Special tip when making \\\n",
    "smoothies, finely cut and freeze the fruits and \\\n",
    "vegetables (if using spinach-lightly stew soften the \\ \n",
    "spinach then freeze until ready for use-and if making \\\n",
    "sorbet, use a small to medium sized food processor) \\ \n",
    "that you plan to use that way you can avoid adding so \\\n",
    "much ice if at all-when making your smoothie. \\\n",
    "After about a year, the motor was making a funny noise. \\\n",
    "I called customer service but the warranty expired \\\n",
    "already, so I had to buy another one. FYI: The overall \\\n",
    "quality has gone done in these types of products, so \\\n",
    "they are kind of counting on brand recognition and \\\n",
    "consumer loyalty to maintain sales. Got it in about \\\n",
    "two days.\n",
    "\"\"\""
   ]
  },
  {
   "cell_type": "code",
   "execution_count": 4,
   "id": "c8356c3e",
   "metadata": {},
   "outputs": [
    {
     "name": "stdout",
     "output_type": "stream",
     "text": [
      "Dear Valued Customer,\n",
      "\n",
      "Thank you for taking the time to share your review with us. We appreciate your feedback and apologize for any inconvenience you may have experienced.\n",
      "\n",
      "We are sorry to hear about the price increase you noticed in December. We strive to provide competitive prices for our customers, and we understand your frustration. If you have any further concerns regarding pricing, we recommend reaching out to our customer service team who will be happy to assist you.\n",
      "\n",
      "We also appreciate your feedback regarding the base of the system. We continuously work to improve the quality of our products, and your comments will be taken into consideration for future enhancements.\n",
      "\n",
      "We apologize for any inconvenience caused by the motor issue you encountered. Our customer service team is always available to assist with any product-related concerns, even if the warranty has expired. Please feel free to contact them for further assistance.\n",
      "\n",
      "Thank you once again for your review. We value your feedback and will use it to improve our products and services. If you have any other questions or concerns, please do not hesitate to reach out to us.\n",
      "\n",
      "Best regards,\n",
      "\n",
      "AI customer agent\n"
     ]
    }
   ],
   "source": [
    "prompt = f\"\"\"\n",
    "You are a customer service AI assistant.\n",
    "Your task is to send an email reply to a valued customer.\n",
    "Given the customer email delimited by ```, \\\n",
    "Generate a reply to thank the customer for their review.\n",
    "If the sentiment is positive or neutral, thank them for \\\n",
    "their review.\n",
    "If the sentiment is negative, apologize and suggest that \\\n",
    "they can reach out to customer service. \n",
    "Make sure to use specific details from the review.\n",
    "Write in a concise and professional tone.\n",
    "Sign the email as `AI customer agent`.\n",
    "Customer review: ```{review}```\n",
    "Review sentiment: {sentiment}\n",
    "\"\"\"\n",
    "response = get_completion(prompt)\n",
    "print(response)"
   ]
  },
  {
   "cell_type": "code",
   "execution_count": 9,
   "id": "c23076a5",
   "metadata": {},
   "outputs": [
    {
     "name": "stdout",
     "output_type": "stream",
     "text": [
      "Dear Valued Customer,\n",
      "\n",
      "Thank you for taking the time to share your review with us. We appreciate your feedback and apologize for any inconvenience you may have experienced.\n",
      "\n",
      "We are sorry to hear about the price increase you noticed in December. We strive to provide competitive prices for our customers, and we understand your frustration. If you have any further concerns regarding pricing, we recommend reaching out to our customer service team who will be happy to assist you.\n",
      "\n",
      "We also appreciate your feedback regarding the base of the system. We continuously work to improve the quality of our products, and your comments will be taken into consideration for future enhancements.\n",
      "\n",
      "We apologize for any inconvenience caused by the motor issue you encountered. Our customer service team is always available to assist with any product-related concerns, even if the warranty has expired. Please feel free to contact them for further assistance.\n",
      "\n",
      "Thank you once again for your review. We value your loyalty and appreciate your support. If you have any other questions or concerns, please do not hesitate to reach out to us.\n",
      "\n",
      "Best regards,\n",
      "\n",
      "AI customer agent\n"
     ]
    }
   ],
   "source": [
    "prompt = f\"\"\"\n",
    "You are a customer service AI assistant.\n",
    "Your task is to send an email reply to a valued customer.\n",
    "Given the customer email delimited by ```, \\\n",
    "Generate a reply to thank the customer for their review.\n",
    "If the sentiment is positive or neutral, thank them for \\\n",
    "their review.\n",
    "If the sentiment is negative, apologize and suggest that \\\n",
    "they can reach out to customer service. \n",
    "Make sure to use specific details from the review.\n",
    "Write in a concise and professional tone.\n",
    "Sign the email as `AI customer agent`.\n",
    "Customer review: ```{review}```\n",
    "Review sentiment: {sentiment}\n",
    "\"\"\"\n",
    "response = get_completion(prompt)\n",
    "print(response)\n"
   ]
  },
  {
   "cell_type": "code",
   "execution_count": 16,
   "id": "b1a66f0b",
   "metadata": {},
   "outputs": [
    {
     "name": "stdout",
     "output_type": "stream",
     "text": [
      "Subject: Meeting Request\n",
      "\n",
      "Dear Mr. Soni,\n",
      "\n",
      "I hope this email finds you in good health and high spirits. My name is Sam Altman, and I am the CEO of OpenAI. I am writing to kindly request a meeting with you to discuss a matter of utmost importance.\n",
      "\n",
      "As you may be aware, OpenAI has been at the forefront of artificial intelligence research and development, and we have been closely following the remarkable progress and achievements of Orange in the telecommunications industry. Given the synergies between our organizations, I believe that a meeting between us would be highly valuable.\n",
      "\n",
      "The purpose of this meeting is to explore potential collaboration opportunities between OpenAI and Orange. We are particularly interested in discussing how our cutting-edge AI technologies can be leveraged to enhance Orange's services, improve operational efficiency, and drive innovation within the industry. We are confident that our insights and expertise in this field can contribute significantly to Orange's goals and objectives.\n",
      "\n",
      "I am available to meet at your convenience during the week of [specific date(s)]. However, I am also open to alternative dates and times that align with your schedule. Please let me know your availability, and I will make the necessary arrangements accordingly.\n",
      "\n",
      "In preparation for our meeting, please inform me if there are any specific details or materials that I should review or bring along. I want to ensure that our discussion is productive and focused on the areas that are most relevant to Orange's strategic priorities.\n",
      "\n",
      "Thank you for considering my request, and I genuinely appreciate your time and attention. I eagerly look forward to the opportunity to meet with you and delve deeper into the potential collaboration between OpenAI and Orange.\n",
      "\n",
      "Best regards,\n",
      "\n",
      "Sam Altman\n",
      "CEO, OpenAI\n"
     ]
    }
   ],
   "source": [
    "prompt = f\"\"\" \n",
    "You are an AI language model, and your task is to generate a formal email to the CEO of a Orange. Your objective is to convey a professional tone and effectively communicate your message.\n",
    "\n",
    "Subject: Meeting Request\n",
    "\n",
    "Dear [Krish Soni],\n",
    "\n",
    "I hope this email finds you well. My name is [Your Name], and I am writing to request a meeting with you to discuss [specific topic or purpose of the meeting].\n",
    "\n",
    "[Provide some background or context for the meeting, if necessary.]\n",
    "\n",
    "I believe that a meeting with you would be highly valuable to [describe the potential benefits or outcomes of the meeting]. Additionally, I am confident that my insights and expertise in [relevant area] can contribute positively to the company's [goals/objectives/initiatives].\n",
    "\n",
    "I am available [suggest specific date(s) and time(s)] for the meeting, and I would greatly appreciate it if you could let me know your availability or suggest alternative suitable times.\n",
    "\n",
    "Please let me know if there are any specific details or materials that I should prepare in advance for our meeting.\n",
    "\n",
    "Thank you very much for considering my request. I look forward to the opportunity to meet with you and discuss [topic] in more detail.\n",
    "\n",
    "Best regards,\n",
    "\n",
    "Sam ALtman\n",
    "CEO, OpenAI\n",
    "\"\"\"\n",
    "response = get_completion(prompt)\n",
    "print(response)"
   ]
  }
 ],
 "metadata": {
  "kernelspec": {
   "display_name": "Python 3 (ipykernel)",
   "language": "python",
   "name": "python3"
  },
  "language_info": {
   "codemirror_mode": {
    "name": "ipython",
    "version": 3
   },
   "file_extension": ".py",
   "mimetype": "text/x-python",
   "name": "python",
   "nbconvert_exporter": "python",
   "pygments_lexer": "ipython3",
   "version": "3.11.3"
  }
 },
 "nbformat": 4,
 "nbformat_minor": 5
}
